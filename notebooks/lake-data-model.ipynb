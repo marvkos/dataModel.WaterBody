{
 "cells": [
  {
   "cell_type": "code",
   "execution_count": 1,
   "metadata": {},
   "outputs": [],
   "source": [
    "import requests\n",
    "import json"
   ]
  },
  {
   "cell_type": "code",
   "execution_count": 3,
   "metadata": {},
   "outputs": [],
   "source": [
    "orion_ld_url = 'http://localhost:1026/ngsi-ld/v1/entities'\n",
    "\n",
    "headers = {\n",
    "    'Content-Type': 'application/ld+json',\n",
    "    'Accept': 'application/ld+json'\n",
    "}\n",
    "\n",
    "with open('../Lake/examples/example-normalized.jsonld') as f:\n",
    "    entity = json.loads(f.read())"
   ]
  },
  {
   "cell_type": "code",
   "execution_count": 4,
   "metadata": {},
   "outputs": [
    {
     "data": {
      "text/plain": [
       "{'id': 'urn:ngsi-ld:WaterBody:Lake:Achsensee:AT',\n",
       " 'type': 'Lake',\n",
       " 'name': {'type': 'Property', 'value': 'Achensee'},\n",
       " 'address': {'type': 'Property', 'value': {'addressRegion': 'Tyrol'}},\n",
       " 'elevation': {'type': 'Property', 'value': 929.0},\n",
       " 'area': {'type': 'Property', 'value': 6.8},\n",
       " 'depth': {'type': 'Property', 'value': 133},\n",
       " '@context': ['https://raw.githubusercontent.com/marvkos/dataModel.WaterBody/refs/heads/main/context.jsonld']}"
      ]
     },
     "execution_count": 4,
     "metadata": {},
     "output_type": "execute_result"
    }
   ],
   "source": [
    "entity"
   ]
  },
  {
   "cell_type": "code",
   "execution_count": null,
   "metadata": {},
   "outputs": [],
   "source": [
    "response = requests.post(\n",
    "    url=orion_ld_url, \n",
    "    headers=headers, \n",
    "    data=json.dumps(entity)\n",
    ")"
   ]
  },
  {
   "cell_type": "code",
   "execution_count": null,
   "metadata": {},
   "outputs": [
    {
     "name": "stdout",
     "output_type": "stream",
     "text": [
      "Status Code: 201\n",
      "Response: \n"
     ]
    }
   ],
   "source": [
    "print('Status Code:', response.status_code)\n",
    "print('Response:', response.text)"
   ]
  },
  {
   "cell_type": "code",
   "execution_count": 5,
   "metadata": {},
   "outputs": [
    {
     "name": "stdout",
     "output_type": "stream",
     "text": [
      "Status Code: 201\n",
      "Response: [\"urn:ngsi-ld:WaterBody:Lake:Achensee:AT\",\"urn:ngsi-ld:WaterBody:Lake:Almsee:AT\",\"urn:ngsi-ld:WaterBody:Lake:Altausseer_See:AT\",\"urn:ngsi-ld:WaterBody:Lake:Old_Danube:AT\",\"urn:ngsi-ld:WaterBody:Lake:Attersee:AT\",\"urn:ngsi-ld:WaterBody:Lake:Bodensee:AT\",\"urn:ngsi-ld:WaterBody:Lake:Erlaufsee:AT\",\"urn:ngsi-ld:WaterBody:Lake:Faaker_See:AT\",\"urn:ngsi-ld:WaterBody:Lake:Fuschlsee:AT\",\"urn:ngsi-ld:WaterBody:Lake:Grabensee:AT\",\"urn:ngsi-ld:WaterBody:Lake:Grundlsee:AT\",\"urn:ngsi-ld:WaterBody:Lake:Haldensee:AT\",\"urn:ngsi-ld:WaterBody:Lake:Hallstaetter_See:AT\",\"urn:ngsi-ld:WaterBody:Lake:Heiterwanger_See:AT\",\"urn:ngsi-ld:WaterBody:Lake:Hintersee:AT\",\"urn:ngsi-ld:WaterBody:Lake:Hintersteiner_See:AT\",\"urn:ngsi-ld:WaterBody:Lake:Illmitzer_Zicksee:AT\",\"urn:ngsi-ld:WaterBody:Lake:Irrsee:AT\",\"urn:ngsi-ld:WaterBody:Lake:Keutschacher_See:AT\",\"urn:ngsi-ld:WaterBody:Lake:Klopeiner_See:AT\",\"urn:ngsi-ld:WaterBody:Lake:Lange_Lacke:AT\",\"urn:ngsi-ld:WaterBody:Lake:Laengsee:AT\",\"urn:ngsi-ld:WaterBody:Lake:Lunzer_See:AT\",\"urn:ngsi-ld:WaterBody:Lake:Mattsee:AT\",\"urn:ngsi-ld:WaterBody:Lake:Millstaetter_See:AT\",\"urn:ngsi-ld:WaterBody:Lake:Mondsee:AT\",\"urn:ngsi-ld:WaterBody:Lake:Neufelder_See:AT\",\"urn:ngsi-ld:WaterBody:Lake:Neusiedler_See:AT\",\"urn:ngsi-ld:WaterBody:Lake:Obertrumer_See:AT\",\"urn:ngsi-ld:WaterBody:Lake:Offensee:AT\",\"urn:ngsi-ld:WaterBody:Lake:Ossiacher_See:AT\",\"urn:ngsi-ld:WaterBody:Lake:Plansee:AT\",\"urn:ngsi-ld:WaterBody:Lake:Pressegger_See:AT\",\"urn:ngsi-ld:WaterBody:Lake:Toplitzsee:AT\",\"urn:ngsi-ld:WaterBody:Lake:Traunsee:AT\",\"urn:ngsi-ld:WaterBody:Lake:Vilsalpsee:AT\",\"urn:ngsi-ld:WaterBody:Lake:Vorderer_Gosausee:AT\",\"urn:ngsi-ld:WaterBody:Lake:Walchsee:AT\",\"urn:ngsi-ld:WaterBody:Lake:Wallersee:AT\",\"urn:ngsi-ld:WaterBody:Lake:Weissensee:AT\",\"urn:ngsi-ld:WaterBody:Lake:Wolfgangsee:AT\",\"urn:ngsi-ld:WaterBody:Lake:Woerthersee:AT\",\"urn:ngsi-ld:WaterBody:Lake:Zeller_See:AT\",\"urn:ngsi-ld:WaterBody:Lake:Zicksee:AT\"]\n"
     ]
    }
   ],
   "source": [
    "with open('../data/lakes_in_austria.jsonld') as f:\n",
    "    entities = json.loads(f.read())\n",
    "\n",
    "response = requests.post(\n",
    "    url='http://localhost:1026/ngsi-ld/v1/entityOperations/upsert', \n",
    "    headers=headers, \n",
    "    data=json.dumps(entities)\n",
    ")\n",
    "\n",
    "print('Status Code:', response.status_code)\n",
    "print('Response:', response.text)"
   ]
  },
  {
   "cell_type": "code",
   "execution_count": 20,
   "metadata": {},
   "outputs": [
    {
     "data": {
      "text/plain": [
       "[{'id': 'urn:ngsi-ld:WaterBody:Lake:Achsensee:AT',\n",
       "  'type': 'Lake',\n",
       "  'address': {'type': 'Property', 'value': {'addressRegion': 'Tyrol'}},\n",
       "  'area': {'type': 'Property', 'value': 6.8},\n",
       "  'depth': {'type': 'Property', 'value': 133},\n",
       "  'elevation': {'type': 'Property', 'value': 929},\n",
       "  'name': {'type': 'Property', 'value': 'Achensee'}},\n",
       " {'id': 'urn:ngsi-ld:WaterBody:Lake:Achensee:AT',\n",
       "  'type': 'Lake',\n",
       "  'address': {'type': 'Property', 'value': {'addressRegion': 'Tyrol'}},\n",
       "  'area': {'type': 'Property', 'value': 6.8},\n",
       "  'depth': {'type': 'Property', 'value': 133},\n",
       "  'elevation': {'type': 'Property', 'value': 929},\n",
       "  'name': {'type': 'Property', 'value': 'Achensee'}},\n",
       " {'id': 'urn:ngsi-ld:WaterBody:Lake:Attersee:AT',\n",
       "  'type': 'Lake',\n",
       "  'address': {'type': 'Property', 'value': {'addressRegion': 'Upper Austria'}},\n",
       "  'area': {'type': 'Property', 'value': 46.2},\n",
       "  'depth': {'type': 'Property', 'value': 171},\n",
       "  'elevation': {'type': 'Property', 'value': 469},\n",
       "  'name': {'type': 'Property', 'value': 'Attersee'}},\n",
       " {'id': 'urn:ngsi-ld:WaterBody:Lake:Bodensee:AT',\n",
       "  'type': 'Lake',\n",
       "  'address': {'type': 'Property', 'value': {'addressRegion': 'Vorarlberg'}},\n",
       "  'area': {'type': 'Property', 'value': 539},\n",
       "  'depth': {'type': 'Property', 'value': 254},\n",
       "  'elevation': {'type': 'Property', 'value': 396},\n",
       "  'name': {'type': 'Property', 'value': 'Bodensee'}},\n",
       " {'id': 'urn:ngsi-ld:WaterBody:Lake:Hallstaetter_See:AT',\n",
       "  'type': 'Lake',\n",
       "  'address': {'type': 'Property', 'value': {'addressRegion': 'Upper Austria'}},\n",
       "  'area': {'type': 'Property', 'value': 8.6},\n",
       "  'depth': {'type': 'Property', 'value': 125},\n",
       "  'elevation': {'type': 'Property', 'value': 508},\n",
       "  'name': {'type': 'Property', 'value': 'Hallstaetter See'}},\n",
       " {'id': 'urn:ngsi-ld:WaterBody:Lake:Millstaetter_See:AT',\n",
       "  'type': 'Lake',\n",
       "  'address': {'type': 'Property', 'value': {'addressRegion': 'Carinthia'}},\n",
       "  'area': {'type': 'Property', 'value': 13.3},\n",
       "  'depth': {'type': 'Property', 'value': 141},\n",
       "  'elevation': {'type': 'Property', 'value': 588},\n",
       "  'name': {'type': 'Property', 'value': 'Millstaetter See'}},\n",
       " {'id': 'urn:ngsi-ld:WaterBody:Lake:Toplitzsee:AT',\n",
       "  'type': 'Lake',\n",
       "  'address': {'type': 'Property', 'value': {'addressRegion': 'Styria'}},\n",
       "  'area': {'type': 'Property', 'value': 0.54},\n",
       "  'depth': {'type': 'Property', 'value': 103},\n",
       "  'elevation': {'type': 'Property', 'value': 718},\n",
       "  'name': {'type': 'Property', 'value': 'Toplitzsee'}},\n",
       " {'id': 'urn:ngsi-ld:WaterBody:Lake:Traunsee:AT',\n",
       "  'type': 'Lake',\n",
       "  'address': {'type': 'Property', 'value': {'addressRegion': 'Upper Austria'}},\n",
       "  'area': {'type': 'Property', 'value': 24.4},\n",
       "  'depth': {'type': 'Property', 'value': 191},\n",
       "  'elevation': {'type': 'Property', 'value': 423},\n",
       "  'name': {'type': 'Property', 'value': 'Traunsee'}},\n",
       " {'id': 'urn:ngsi-ld:WaterBody:Lake:Wolfgangsee:AT',\n",
       "  'type': 'Lake',\n",
       "  'address': {'type': 'Property', 'value': {'addressRegion': 'Upper Austria'}},\n",
       "  'area': {'type': 'Property', 'value': 12.8},\n",
       "  'depth': {'type': 'Property', 'value': 113},\n",
       "  'elevation': {'type': 'Property', 'value': 538},\n",
       "  'name': {'type': 'Property', 'value': 'Wolfgangsee'}}]"
      ]
     },
     "execution_count": 20,
     "metadata": {},
     "output_type": "execute_result"
    }
   ],
   "source": [
    "headers = {\n",
    "    'Link': '<https://raw.githubusercontent.com/marvkos/dataModel.WaterBody/refs/heads/main/context.jsonld>; rel=\"http://www.w3.org/ns/json-ld#context\"; type=\"application/ld+json\"'\n",
    "}\n",
    "\n",
    "params = {\n",
    "    'q': 'depth>=100'\n",
    "}\n",
    "\n",
    "response = requests.get(\n",
    "    url=orion_ld_url,\n",
    "    params=params,\n",
    "    headers=headers\n",
    ")\n",
    "\n",
    "response.json()"
   ]
  },
  {
   "cell_type": "code",
   "execution_count": 21,
   "metadata": {},
   "outputs": [
    {
     "data": {
      "text/plain": [
       "[{'id': 'urn:ngsi-ld:WaterBody:Lake:Almsee:AT',\n",
       "  'type': 'Lake',\n",
       "  'address': {'type': 'Property', 'value': {'addressRegion': 'Upper Austria'}},\n",
       "  'area': {'type': 'Property', 'value': 0.85},\n",
       "  'depth': {'type': 'Property', 'value': 5},\n",
       "  'elevation': {'type': 'Property', 'value': 487},\n",
       "  'name': {'type': 'Property', 'value': 'Almsee'}},\n",
       " {'id': 'urn:ngsi-ld:WaterBody:Lake:Attersee:AT',\n",
       "  'type': 'Lake',\n",
       "  'address': {'type': 'Property', 'value': {'addressRegion': 'Upper Austria'}},\n",
       "  'area': {'type': 'Property', 'value': 46.2},\n",
       "  'depth': {'type': 'Property', 'value': 171},\n",
       "  'elevation': {'type': 'Property', 'value': 469},\n",
       "  'name': {'type': 'Property', 'value': 'Attersee'}},\n",
       " {'id': 'urn:ngsi-ld:WaterBody:Lake:Hallstaetter_See:AT',\n",
       "  'type': 'Lake',\n",
       "  'address': {'type': 'Property', 'value': {'addressRegion': 'Upper Austria'}},\n",
       "  'area': {'type': 'Property', 'value': 8.6},\n",
       "  'depth': {'type': 'Property', 'value': 125},\n",
       "  'elevation': {'type': 'Property', 'value': 508},\n",
       "  'name': {'type': 'Property', 'value': 'Hallstaetter See'}},\n",
       " {'id': 'urn:ngsi-ld:WaterBody:Lake:Irrsee:AT',\n",
       "  'type': 'Lake',\n",
       "  'address': {'type': 'Property', 'value': {'addressRegion': 'Upper Austria'}},\n",
       "  'area': {'type': 'Property', 'value': 3.6},\n",
       "  'depth': {'type': 'Property', 'value': 32},\n",
       "  'elevation': {'type': 'Property', 'value': 553},\n",
       "  'name': {'type': 'Property', 'value': 'Irrsee'}},\n",
       " {'id': 'urn:ngsi-ld:WaterBody:Lake:Mondsee:AT',\n",
       "  'type': 'Lake',\n",
       "  'address': {'type': 'Property', 'value': {'addressRegion': 'Upper Austria'}},\n",
       "  'area': {'type': 'Property', 'value': 13.8},\n",
       "  'depth': {'type': 'Property', 'value': 68},\n",
       "  'elevation': {'type': 'Property', 'value': 481},\n",
       "  'name': {'type': 'Property', 'value': 'Mondsee'}},\n",
       " {'id': 'urn:ngsi-ld:WaterBody:Lake:Offensee:AT',\n",
       "  'type': 'Lake',\n",
       "  'address': {'type': 'Property', 'value': {'addressRegion': 'Upper Austria'}},\n",
       "  'area': {'type': 'Property', 'value': 0.55},\n",
       "  'depth': {'type': 'Property', 'value': 38},\n",
       "  'elevation': {'type': 'Property', 'value': 649},\n",
       "  'name': {'type': 'Property', 'value': 'Offensee'}},\n",
       " {'id': 'urn:ngsi-ld:WaterBody:Lake:Traunsee:AT',\n",
       "  'type': 'Lake',\n",
       "  'address': {'type': 'Property', 'value': {'addressRegion': 'Upper Austria'}},\n",
       "  'area': {'type': 'Property', 'value': 24.4},\n",
       "  'depth': {'type': 'Property', 'value': 191},\n",
       "  'elevation': {'type': 'Property', 'value': 423},\n",
       "  'name': {'type': 'Property', 'value': 'Traunsee'}},\n",
       " {'id': 'urn:ngsi-ld:WaterBody:Lake:Vorderer_Gosausee:AT',\n",
       "  'type': 'Lake',\n",
       "  'address': {'type': 'Property', 'value': {'addressRegion': 'Upper Austria'}},\n",
       "  'area': {'type': 'Property', 'value': 0.58},\n",
       "  'depth': {'type': 'Property', 'value': 69},\n",
       "  'elevation': {'type': 'Property', 'value': 933},\n",
       "  'name': {'type': 'Property', 'value': 'Vorderer Gosausee'}},\n",
       " {'id': 'urn:ngsi-ld:WaterBody:Lake:Wolfgangsee:AT',\n",
       "  'type': 'Lake',\n",
       "  'address': {'type': 'Property', 'value': {'addressRegion': 'Upper Austria'}},\n",
       "  'area': {'type': 'Property', 'value': 12.8},\n",
       "  'depth': {'type': 'Property', 'value': 113},\n",
       "  'elevation': {'type': 'Property', 'value': 538},\n",
       "  'name': {'type': 'Property', 'value': 'Wolfgangsee'}}]"
      ]
     },
     "execution_count": 21,
     "metadata": {},
     "output_type": "execute_result"
    }
   ],
   "source": [
    "params = {\n",
    "    'q': 'address[addressRegion]==\"Upper Austria\"'\n",
    "}\n",
    "\n",
    "response = requests.get(\n",
    "    url=orion_ld_url,\n",
    "    params=params,\n",
    "    headers=headers\n",
    ")\n",
    "\n",
    "response.json()"
   ]
  },
  {
   "cell_type": "code",
   "execution_count": 23,
   "metadata": {},
   "outputs": [
    {
     "data": {
      "text/plain": [
       "[{'id': 'urn:ngsi-ld:WaterBody:Lake:Attersee:AT',\n",
       "  'type': 'Lake',\n",
       "  'address': {'type': 'Property', 'value': {'addressRegion': 'Upper Austria'}},\n",
       "  'area': {'type': 'Property', 'value': 46.2},\n",
       "  'depth': {'type': 'Property', 'value': 171},\n",
       "  'elevation': {'type': 'Property', 'value': 469},\n",
       "  'name': {'type': 'Property', 'value': 'Attersee'}},\n",
       " {'id': 'urn:ngsi-ld:WaterBody:Lake:Traunsee:AT',\n",
       "  'type': 'Lake',\n",
       "  'address': {'type': 'Property', 'value': {'addressRegion': 'Upper Austria'}},\n",
       "  'area': {'type': 'Property', 'value': 24.4},\n",
       "  'depth': {'type': 'Property', 'value': 191},\n",
       "  'elevation': {'type': 'Property', 'value': 423},\n",
       "  'name': {'type': 'Property', 'value': 'Traunsee'}}]"
      ]
     },
     "execution_count": 23,
     "metadata": {},
     "output_type": "execute_result"
    }
   ],
   "source": [
    "params = {\n",
    "    'q': 'depth>=150&address[addressRegion]==\"Upper Austria\"'\n",
    "}\n",
    "\n",
    "response = requests.get(\n",
    "    url=orion_ld_url,\n",
    "    params=params,\n",
    "    headers=headers\n",
    ")\n",
    "\n",
    "response.json()"
   ]
  }
 ],
 "metadata": {
  "kernelspec": {
   "display_name": "base",
   "language": "python",
   "name": "python3"
  },
  "language_info": {
   "codemirror_mode": {
    "name": "ipython",
    "version": 3
   },
   "file_extension": ".py",
   "mimetype": "text/x-python",
   "name": "python",
   "nbconvert_exporter": "python",
   "pygments_lexer": "ipython3",
   "version": "3.11.8"
  }
 },
 "nbformat": 4,
 "nbformat_minor": 2
}
